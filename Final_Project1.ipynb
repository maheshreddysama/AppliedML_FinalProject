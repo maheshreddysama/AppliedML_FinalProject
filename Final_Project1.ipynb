{
  "cells": [
    {
      "cell_type": "markdown",
      "metadata": {
        "id": "title"
      },
      "source": [
        "# Product Review Sentiment Analysis + Reasoning\n",
        "\n",
        "An automated tool to classify customer reviews and understand emotional drivers behind feedback for e-commerce teams.\n",
        "\n",
        "## Features:\n",
        "- Sentiment classification (Positive/Neutral/Negative)\n",
        "- LLM-generated explanation: \"Why is this review negative?\"\n",
        "- Option to rephrase in a neutral or brand-friendly tone\n",
        "- Export capability to internal ticketing system\n",
        "\n",
        "---"
      ]
    },
    {
      "cell_type": "markdown",
      "metadata": {
        "id": "setup"
      },
      "source": [
        "## 1. Setup and Installation"
      ]
    },
    {
      "cell_type": "code",
      "execution_count": 12,
      "metadata": {
        "id": "install_packages",
        "collapsed": true,
        "colab": {
          "base_uri": "https://localhost:8080/"
        },
        "outputId": "fd189ba1-bfee-4b22-91ce-e821f3c6ed25"
      },
      "outputs": [
        {
          "output_type": "stream",
          "name": "stdout",
          "text": [
            "Requirement already satisfied: transformers in /usr/local/lib/python3.11/dist-packages (4.55.0)\n",
            "Requirement already satisfied: torch in /usr/local/lib/python3.11/dist-packages (2.6.0+cu124)\n",
            "Requirement already satisfied: gradio in /usr/local/lib/python3.11/dist-packages (5.42.0)\n",
            "Requirement already satisfied: openai in /usr/local/lib/python3.11/dist-packages (1.99.8)\n",
            "Requirement already satisfied: textblob in /usr/local/lib/python3.11/dist-packages (0.19.0)\n",
            "Requirement already satisfied: pyperclip in /usr/local/lib/python3.11/dist-packages (1.9.0)\n",
            "Requirement already satisfied: filelock in /usr/local/lib/python3.11/dist-packages (from transformers) (3.18.0)\n",
            "Requirement already satisfied: huggingface-hub<1.0,>=0.34.0 in /usr/local/lib/python3.11/dist-packages (from transformers) (0.34.4)\n",
            "Requirement already satisfied: numpy>=1.17 in /usr/local/lib/python3.11/dist-packages (from transformers) (2.0.2)\n",
            "Requirement already satisfied: packaging>=20.0 in /usr/local/lib/python3.11/dist-packages (from transformers) (25.0)\n",
            "Requirement already satisfied: pyyaml>=5.1 in /usr/local/lib/python3.11/dist-packages (from transformers) (6.0.2)\n",
            "Requirement already satisfied: regex!=2019.12.17 in /usr/local/lib/python3.11/dist-packages (from transformers) (2024.11.6)\n",
            "Requirement already satisfied: requests in /usr/local/lib/python3.11/dist-packages (from transformers) (2.32.3)\n",
            "Requirement already satisfied: tokenizers<0.22,>=0.21 in /usr/local/lib/python3.11/dist-packages (from transformers) (0.21.4)\n",
            "Requirement already satisfied: safetensors>=0.4.3 in /usr/local/lib/python3.11/dist-packages (from transformers) (0.6.2)\n",
            "Requirement already satisfied: tqdm>=4.27 in /usr/local/lib/python3.11/dist-packages (from transformers) (4.67.1)\n",
            "Requirement already satisfied: typing-extensions>=4.10.0 in /usr/local/lib/python3.11/dist-packages (from torch) (4.14.1)\n",
            "Requirement already satisfied: networkx in /usr/local/lib/python3.11/dist-packages (from torch) (3.5)\n",
            "Requirement already satisfied: jinja2 in /usr/local/lib/python3.11/dist-packages (from torch) (3.1.6)\n",
            "Requirement already satisfied: fsspec in /usr/local/lib/python3.11/dist-packages (from torch) (2025.3.0)\n",
            "Requirement already satisfied: nvidia-cuda-nvrtc-cu12==12.4.127 in /usr/local/lib/python3.11/dist-packages (from torch) (12.4.127)\n",
            "Requirement already satisfied: nvidia-cuda-runtime-cu12==12.4.127 in /usr/local/lib/python3.11/dist-packages (from torch) (12.4.127)\n",
            "Requirement already satisfied: nvidia-cuda-cupti-cu12==12.4.127 in /usr/local/lib/python3.11/dist-packages (from torch) (12.4.127)\n",
            "Requirement already satisfied: nvidia-cudnn-cu12==9.1.0.70 in /usr/local/lib/python3.11/dist-packages (from torch) (9.1.0.70)\n",
            "Requirement already satisfied: nvidia-cublas-cu12==12.4.5.8 in /usr/local/lib/python3.11/dist-packages (from torch) (12.4.5.8)\n",
            "Requirement already satisfied: nvidia-cufft-cu12==11.2.1.3 in /usr/local/lib/python3.11/dist-packages (from torch) (11.2.1.3)\n",
            "Requirement already satisfied: nvidia-curand-cu12==10.3.5.147 in /usr/local/lib/python3.11/dist-packages (from torch) (10.3.5.147)\n",
            "Requirement already satisfied: nvidia-cusolver-cu12==11.6.1.9 in /usr/local/lib/python3.11/dist-packages (from torch) (11.6.1.9)\n",
            "Requirement already satisfied: nvidia-cusparse-cu12==12.3.1.170 in /usr/local/lib/python3.11/dist-packages (from torch) (12.3.1.170)\n",
            "Requirement already satisfied: nvidia-cusparselt-cu12==0.6.2 in /usr/local/lib/python3.11/dist-packages (from torch) (0.6.2)\n",
            "Requirement already satisfied: nvidia-nccl-cu12==2.21.5 in /usr/local/lib/python3.11/dist-packages (from torch) (2.21.5)\n",
            "Requirement already satisfied: nvidia-nvtx-cu12==12.4.127 in /usr/local/lib/python3.11/dist-packages (from torch) (12.4.127)\n",
            "Requirement already satisfied: nvidia-nvjitlink-cu12==12.4.127 in /usr/local/lib/python3.11/dist-packages (from torch) (12.4.127)\n",
            "Requirement already satisfied: triton==3.2.0 in /usr/local/lib/python3.11/dist-packages (from torch) (3.2.0)\n",
            "Requirement already satisfied: sympy==1.13.1 in /usr/local/lib/python3.11/dist-packages (from torch) (1.13.1)\n",
            "Requirement already satisfied: mpmath<1.4,>=1.1.0 in /usr/local/lib/python3.11/dist-packages (from sympy==1.13.1->torch) (1.3.0)\n",
            "Requirement already satisfied: aiofiles<25.0,>=22.0 in /usr/local/lib/python3.11/dist-packages (from gradio) (24.1.0)\n",
            "Requirement already satisfied: anyio<5.0,>=3.0 in /usr/local/lib/python3.11/dist-packages (from gradio) (4.10.0)\n",
            "Requirement already satisfied: brotli>=1.1.0 in /usr/local/lib/python3.11/dist-packages (from gradio) (1.1.0)\n",
            "Requirement already satisfied: fastapi<1.0,>=0.115.2 in /usr/local/lib/python3.11/dist-packages (from gradio) (0.116.1)\n",
            "Requirement already satisfied: ffmpy in /usr/local/lib/python3.11/dist-packages (from gradio) (0.6.1)\n",
            "Requirement already satisfied: gradio-client==1.11.1 in /usr/local/lib/python3.11/dist-packages (from gradio) (1.11.1)\n",
            "Requirement already satisfied: groovy~=0.1 in /usr/local/lib/python3.11/dist-packages (from gradio) (0.1.2)\n",
            "Requirement already satisfied: httpx<1.0,>=0.24.1 in /usr/local/lib/python3.11/dist-packages (from gradio) (0.28.1)\n",
            "Requirement already satisfied: markupsafe<4.0,>=2.0 in /usr/local/lib/python3.11/dist-packages (from gradio) (3.0.2)\n",
            "Requirement already satisfied: orjson~=3.0 in /usr/local/lib/python3.11/dist-packages (from gradio) (3.11.1)\n",
            "Requirement already satisfied: pandas<3.0,>=1.0 in /usr/local/lib/python3.11/dist-packages (from gradio) (2.2.2)\n",
            "Requirement already satisfied: pillow<12.0,>=8.0 in /usr/local/lib/python3.11/dist-packages (from gradio) (11.3.0)\n",
            "Requirement already satisfied: pydantic<2.12,>=2.0 in /usr/local/lib/python3.11/dist-packages (from gradio) (2.11.7)\n",
            "Requirement already satisfied: pydub in /usr/local/lib/python3.11/dist-packages (from gradio) (0.25.1)\n",
            "Requirement already satisfied: python-multipart>=0.0.18 in /usr/local/lib/python3.11/dist-packages (from gradio) (0.0.20)\n",
            "Requirement already satisfied: ruff>=0.9.3 in /usr/local/lib/python3.11/dist-packages (from gradio) (0.12.8)\n",
            "Requirement already satisfied: safehttpx<0.2.0,>=0.1.6 in /usr/local/lib/python3.11/dist-packages (from gradio) (0.1.6)\n",
            "Requirement already satisfied: semantic-version~=2.0 in /usr/local/lib/python3.11/dist-packages (from gradio) (2.10.0)\n",
            "Requirement already satisfied: starlette<1.0,>=0.40.0 in /usr/local/lib/python3.11/dist-packages (from gradio) (0.47.2)\n",
            "Requirement already satisfied: tomlkit<0.14.0,>=0.12.0 in /usr/local/lib/python3.11/dist-packages (from gradio) (0.13.3)\n",
            "Requirement already satisfied: typer<1.0,>=0.12 in /usr/local/lib/python3.11/dist-packages (from gradio) (0.16.0)\n",
            "Requirement already satisfied: uvicorn>=0.14.0 in /usr/local/lib/python3.11/dist-packages (from gradio) (0.35.0)\n",
            "Requirement already satisfied: websockets<16.0,>=10.0 in /usr/local/lib/python3.11/dist-packages (from gradio-client==1.11.1->gradio) (15.0.1)\n",
            "Requirement already satisfied: distro<2,>=1.7.0 in /usr/local/lib/python3.11/dist-packages (from openai) (1.9.0)\n",
            "Requirement already satisfied: jiter<1,>=0.4.0 in /usr/local/lib/python3.11/dist-packages (from openai) (0.10.0)\n",
            "Requirement already satisfied: sniffio in /usr/local/lib/python3.11/dist-packages (from openai) (1.3.1)\n",
            "Requirement already satisfied: nltk>=3.9 in /usr/local/lib/python3.11/dist-packages (from textblob) (3.9.1)\n",
            "Requirement already satisfied: idna>=2.8 in /usr/local/lib/python3.11/dist-packages (from anyio<5.0,>=3.0->gradio) (3.10)\n",
            "Requirement already satisfied: certifi in /usr/local/lib/python3.11/dist-packages (from httpx<1.0,>=0.24.1->gradio) (2025.8.3)\n",
            "Requirement already satisfied: httpcore==1.* in /usr/local/lib/python3.11/dist-packages (from httpx<1.0,>=0.24.1->gradio) (1.0.9)\n",
            "Requirement already satisfied: h11>=0.16 in /usr/local/lib/python3.11/dist-packages (from httpcore==1.*->httpx<1.0,>=0.24.1->gradio) (0.16.0)\n",
            "Requirement already satisfied: hf-xet<2.0.0,>=1.1.3 in /usr/local/lib/python3.11/dist-packages (from huggingface-hub<1.0,>=0.34.0->transformers) (1.1.7)\n",
            "Requirement already satisfied: click in /usr/local/lib/python3.11/dist-packages (from nltk>=3.9->textblob) (8.2.1)\n",
            "Requirement already satisfied: joblib in /usr/local/lib/python3.11/dist-packages (from nltk>=3.9->textblob) (1.5.1)\n",
            "Requirement already satisfied: python-dateutil>=2.8.2 in /usr/local/lib/python3.11/dist-packages (from pandas<3.0,>=1.0->gradio) (2.9.0.post0)\n",
            "Requirement already satisfied: pytz>=2020.1 in /usr/local/lib/python3.11/dist-packages (from pandas<3.0,>=1.0->gradio) (2025.2)\n",
            "Requirement already satisfied: tzdata>=2022.7 in /usr/local/lib/python3.11/dist-packages (from pandas<3.0,>=1.0->gradio) (2025.2)\n",
            "Requirement already satisfied: annotated-types>=0.6.0 in /usr/local/lib/python3.11/dist-packages (from pydantic<2.12,>=2.0->gradio) (0.7.0)\n",
            "Requirement already satisfied: pydantic-core==2.33.2 in /usr/local/lib/python3.11/dist-packages (from pydantic<2.12,>=2.0->gradio) (2.33.2)\n",
            "Requirement already satisfied: typing-inspection>=0.4.0 in /usr/local/lib/python3.11/dist-packages (from pydantic<2.12,>=2.0->gradio) (0.4.1)\n",
            "Requirement already satisfied: shellingham>=1.3.0 in /usr/local/lib/python3.11/dist-packages (from typer<1.0,>=0.12->gradio) (1.5.4)\n",
            "Requirement already satisfied: rich>=10.11.0 in /usr/local/lib/python3.11/dist-packages (from typer<1.0,>=0.12->gradio) (13.9.4)\n",
            "Requirement already satisfied: charset-normalizer<4,>=2 in /usr/local/lib/python3.11/dist-packages (from requests->transformers) (3.4.3)\n",
            "Requirement already satisfied: urllib3<3,>=1.21.1 in /usr/local/lib/python3.11/dist-packages (from requests->transformers) (2.5.0)\n",
            "Requirement already satisfied: six>=1.5 in /usr/local/lib/python3.11/dist-packages (from python-dateutil>=2.8.2->pandas<3.0,>=1.0->gradio) (1.17.0)\n",
            "Requirement already satisfied: markdown-it-py>=2.2.0 in /usr/local/lib/python3.11/dist-packages (from rich>=10.11.0->typer<1.0,>=0.12->gradio) (4.0.0)\n",
            "Requirement already satisfied: pygments<3.0.0,>=2.13.0 in /usr/local/lib/python3.11/dist-packages (from rich>=10.11.0->typer<1.0,>=0.12->gradio) (2.19.2)\n",
            "Requirement already satisfied: mdurl~=0.1 in /usr/local/lib/python3.11/dist-packages (from markdown-it-py>=2.2.0->rich>=10.11.0->typer<1.0,>=0.12->gradio) (0.1.2)\n"
          ]
        }
      ],
      "source": [
        "# Install required packages\n",
        "!pip install transformers torch gradio openai textblob pyperclip"
      ]
    },
    {
      "cell_type": "code",
      "execution_count": 13,
      "metadata": {
        "id": "imports"
      },
      "outputs": [],
      "source": [
        "import gradio as gr\n",
        "import openai\n",
        "import json\n",
        "import pandas as pd\n",
        "from datetime import datetime\n",
        "from textblob import TextBlob\n",
        "from transformers import pipeline\n",
        "import os\n",
        "import pyperclip"
      ]
    },
    {
      "cell_type": "markdown",
      "metadata": {
        "id": "config"
      },
      "source": [
        "## 2. Configuration"
      ]
    },
    {
      "cell_type": "code",
      "execution_count": 14,
      "metadata": {
        "id": "openai_config",
        "colab": {
          "base_uri": "https://localhost:8080/"
        },
        "outputId": "299beefa-712a-4dfb-8dea-55cab7c62977"
      },
      "outputs": [
        {
          "output_type": "stream",
          "name": "stdout",
          "text": [
            "✅ OpenAI API key configured successfully!\n"
          ]
        }
      ],
      "source": [
        "try:\n",
        "    from google.colab import userdata\n",
        "    openai.api_key = userdata.get('OPENAI_API_KEY')\n",
        "except:\n",
        "    # Fallback to environment variable\n",
        "    openai.api_key = os.getenv('OPENAI_API_KEY')\n",
        "\n",
        "if not openai.api_key:\n",
        "    print(\"⚠️ OpenAI API key not found. Please set it using one of the methods above.\")\n",
        "else:\n",
        "    print(\"✅ OpenAI API key configured successfully!\")"
      ]
    },
    {
      "cell_type": "markdown",
      "metadata": {
        "id": "core_functions"
      },
      "source": [
        "## 3. Core Functions"
      ]
    },
    {
      "cell_type": "code",
      "execution_count": 15,
      "metadata": {
        "id": "sentiment_analyzer",
        "colab": {
          "base_uri": "https://localhost:8080/"
        },
        "outputId": "e898cb76-0e34-4ce7-d35e-64f7110e9325"
      },
      "outputs": [
        {
          "output_type": "stream",
          "name": "stderr",
          "text": [
            "Some weights of the model checkpoint at cardiffnlp/twitter-roberta-base-sentiment-latest were not used when initializing RobertaForSequenceClassification: ['roberta.pooler.dense.bias', 'roberta.pooler.dense.weight']\n",
            "- This IS expected if you are initializing RobertaForSequenceClassification from the checkpoint of a model trained on another task or with another architecture (e.g. initializing a BertForSequenceClassification model from a BertForPreTraining model).\n",
            "- This IS NOT expected if you are initializing RobertaForSequenceClassification from the checkpoint of a model that you expect to be exactly identical (initializing a BertForSequenceClassification model from a BertForSequenceClassification model).\n",
            "Device set to use cpu\n"
          ]
        },
        {
          "output_type": "stream",
          "name": "stdout",
          "text": [
            "✅ Sentiment analysis model loaded successfully!\n"
          ]
        },
        {
          "output_type": "stream",
          "name": "stderr",
          "text": [
            "/usr/local/lib/python3.11/dist-packages/transformers/pipelines/text_classification.py:111: UserWarning: `return_all_scores` is now deprecated,  if want a similar functionality use `top_k=None` instead of `return_all_scores=True` or `top_k=1` instead of `return_all_scores=False`.\n",
            "  warnings.warn(\n"
          ]
        }
      ],
      "source": [
        "# Initialize sentiment analysis pipeline\n",
        "try:\n",
        "    # Use a lightweight model for faster inference\n",
        "    sentiment_pipeline = pipeline(\"sentiment-analysis\",\n",
        "                                model=\"cardiffnlp/twitter-roberta-base-sentiment-latest\",\n",
        "                                return_all_scores=True)\n",
        "    print(\"✅ Sentiment analysis model loaded successfully!\")\n",
        "except Exception as e:\n",
        "    print(f\"⚠️ Error loading sentiment model: {e}\")\n",
        "    print(\"Falling back to TextBlob for sentiment analysis...\")\n",
        "    sentiment_pipeline = None"
      ]
    },
    {
      "cell_type": "code",
      "execution_count": 16,
      "metadata": {
        "id": "sentiment_functions"
      },
      "outputs": [],
      "source": [
        "def analyze_sentiment(text):\n",
        "    \"\"\"\n",
        "    Analyze sentiment of the given text\n",
        "    Returns: (sentiment_label, confidence_score)\n",
        "    \"\"\"\n",
        "    if not text.strip():\n",
        "        return \"Neutral\", 0.0\n",
        "\n",
        "    try:\n",
        "        if sentiment_pipeline:\n",
        "            # Use transformer model\n",
        "            results = sentiment_pipeline(text)[0]\n",
        "\n",
        "            # Map labels to our format\n",
        "            label_mapping = {\n",
        "                'LABEL_0': 'Negative',\n",
        "                'LABEL_1': 'Neutral',\n",
        "                'LABEL_2': 'Positive'\n",
        "            }\n",
        "\n",
        "            best_result = max(results, key=lambda x: x['score'])\n",
        "            sentiment = label_mapping.get(best_result['label'], best_result['label'])\n",
        "            confidence = best_result['score']\n",
        "\n",
        "        else:\n",
        "            # Fallback to TextBlob\n",
        "            blob = TextBlob(text)\n",
        "            polarity = blob.sentiment.polarity\n",
        "\n",
        "            if polarity > 0.1:\n",
        "                sentiment = \"Positive\"\n",
        "            elif polarity < -0.1:\n",
        "                sentiment = \"Negative\"\n",
        "            else:\n",
        "                sentiment = \"Neutral\"\n",
        "\n",
        "            confidence = abs(polarity)\n",
        "\n",
        "    except Exception as e:\n",
        "        print(f\"Error in sentiment analysis: {e}\")\n",
        "        return \"Neutral\", 0.0\n",
        "\n",
        "    return sentiment, confidence"
      ]
    },
    {
      "cell_type": "code",
      "source": [
        "from openai import OpenAI\n",
        "from google.colab import userdata\n",
        "\n",
        "client = OpenAI(api_key=userdata.get('OPENAI_API_KEY'))\n",
        "\n",
        "# Your existing functions remain the same\n",
        "def get_sentiment_explanation(review_text, sentiment):\n",
        "    \"\"\"\n",
        "    Generate explanation for why the review has the given sentiment\n",
        "    \"\"\"\n",
        "    try:\n",
        "        prompt = f\"\"\"\n",
        "        Analyze this customer review and explain why it has a {sentiment.lower()} sentiment.\n",
        "\n",
        "        Review: \"{review_text}\"\n",
        "\n",
        "        Provide a clear, concise explanation focusing on:\n",
        "        - Key emotional indicators\n",
        "        - Specific issues or praise mentioned\n",
        "        - Language tone and intensity\n",
        "\n",
        "        Keep the explanation under 100 words and professional.\n",
        "        \"\"\"\n",
        "\n",
        "        response = client.chat.completions.create(\n",
        "            model=\"gpt-3.5-turbo\",\n",
        "            messages=[\n",
        "                {\"role\": \"system\", \"content\": \"You are an expert in sentiment analysis and customer feedback interpretation.\"},\n",
        "                {\"role\": \"user\", \"content\": prompt}\n",
        "            ],\n",
        "            max_tokens=150,\n",
        "            temperature=0.3\n",
        "        )\n",
        "\n",
        "        return response.choices[0].message.content.strip()\n",
        "\n",
        "    except Exception as e:\n",
        "        return f\"Error generating explanation: {str(e)}\"\n",
        "\n",
        "\n",
        "def rephrase_review(review_text, tone=\"neutral\"):\n",
        "    \"\"\"\n",
        "    Rephrase the review in a neutral or brand-friendly tone\n",
        "    \"\"\"\n",
        "    try:\n",
        "        if tone == \"neutral\":\n",
        "            tone_instruction = \"neutral, objective tone while preserving the core feedback\"\n",
        "        else:  # brand-friendly\n",
        "            tone_instruction = \"constructive, brand-friendly tone that maintains the feedback but reduces negativity\"\n",
        "\n",
        "        prompt = f\"\"\"\n",
        "        Rephrase this customer review in a {tone_instruction}.\n",
        "\n",
        "        Original review: \"{review_text}\"\n",
        "\n",
        "        Guidelines:\n",
        "        - Maintain the core message and specific issues mentioned\n",
        "        - Use professional, respectful language\n",
        "        - Keep the same length approximately\n",
        "        - Focus on constructive feedback rather than emotional language\n",
        "\n",
        "        Rephrased review:\n",
        "        \"\"\"\n",
        "\n",
        "        response = client.chat.completions.create(\n",
        "            model=\"gpt-3.5-turbo\",\n",
        "            messages=[\n",
        "                {\"role\": \"system\", \"content\": \"You are an expert in professional communication and customer service.\"},\n",
        "                {\"role\": \"user\", \"content\": prompt}\n",
        "            ],\n",
        "            max_tokens=200,\n",
        "            temperature=0.4\n",
        "        )\n",
        "\n",
        "        return response.choices[0].message.content.strip()\n",
        "\n",
        "    except Exception as e:\n",
        "        return f\"Error rephrasing review: {str(e)}\""
      ],
      "metadata": {
        "id": "jK0qYiZFdyo0"
      },
      "execution_count": 17,
      "outputs": []
    },
    {
      "cell_type": "markdown",
      "metadata": {
        "id": "export_functions"
      },
      "source": [
        "## 4. Export Functions"
      ]
    },
    {
      "cell_type": "code",
      "execution_count": 18,
      "metadata": {
        "id": "export_code"
      },
      "outputs": [],
      "source": [
        "# Global variable to store analysis results\n",
        "analysis_results = []\n",
        "\n",
        "def export_to_json(results):\n",
        "    \"\"\"\n",
        "    Export results to JSON format for ticketing system\n",
        "    \"\"\"\n",
        "    timestamp = datetime.now().strftime(\"%Y%m%d_%H%M%S\")\n",
        "    filename = f\"sentiment_analysis_{timestamp}.json\"\n",
        "\n",
        "    export_data = {\n",
        "        \"export_timestamp\": datetime.now().isoformat(),\n",
        "        \"total_reviews\": len(results),\n",
        "        \"reviews\": results\n",
        "    }\n",
        "\n",
        "    with open(filename, 'w', encoding='utf-8') as f:\n",
        "        json.dump(export_data, f, indent=2, ensure_ascii=False)\n",
        "\n",
        "    return filename\n",
        "\n",
        "def copy_to_clipboard(text):\n",
        "    \"\"\"\n",
        "    Copy text to clipboard\n",
        "    \"\"\"\n",
        "    try:\n",
        "        pyperclip.copy(text)\n",
        "        return \"✅ Copied to clipboard!\"\n",
        "    except Exception as e:\n",
        "        return f\"❌ Error copying to clipboard: {str(e)}\""
      ]
    },
    {
      "cell_type": "markdown",
      "metadata": {
        "id": "ui_section"
      },
      "source": [
        "## 5. User Interface"
      ]
    },
    {
      "cell_type": "code",
      "execution_count": 19,
      "metadata": {
        "id": "main_analysis_function"
      },
      "outputs": [],
      "source": [
        "def analyze_review(review_text):\n",
        "    \"\"\"\n",
        "    Main function to analyze a review\n",
        "    \"\"\"\n",
        "    if not review_text.strip():\n",
        "        return \"Please enter a review to analyze.\", \"\", \"\", \"\"\n",
        "\n",
        "    # Analyze sentiment\n",
        "    sentiment, confidence = analyze_sentiment(review_text)\n",
        "\n",
        "    # Create sentiment badge\n",
        "    confidence_pct = f\"{confidence:.1%}\"\n",
        "\n",
        "    if sentiment == \"Positive\":\n",
        "        badge_color = \"🟢\"\n",
        "    elif sentiment == \"Negative\":\n",
        "        badge_color = \"🔴\"\n",
        "    else:\n",
        "        badge_color = \"🟡\"\n",
        "\n",
        "    sentiment_display = f\"{badge_color} {sentiment} ({confidence_pct})\"\n",
        "\n",
        "    # Generate explanation\n",
        "    explanation = get_sentiment_explanation(review_text, sentiment)\n",
        "\n",
        "    # Store result\n",
        "    result = {\n",
        "        \"timestamp\": datetime.now().isoformat(),\n",
        "        \"review_text\": review_text,\n",
        "        \"sentiment\": sentiment,\n",
        "        \"confidence\": confidence,\n",
        "        \"explanation\": explanation\n",
        "    }\n",
        "\n",
        "    analysis_results.append(result)\n",
        "\n",
        "    return sentiment_display, explanation, \"\", \"\"\n",
        "\n",
        "def rephrase_current_review(review_text, tone):\n",
        "    \"\"\"\n",
        "    Rephrase the current review\n",
        "    \"\"\"\n",
        "    if not review_text.strip():\n",
        "        return \"Please enter a review first.\"\n",
        "\n",
        "    rephrased = rephrase_review(review_text, tone)\n",
        "    return rephrased\n",
        "\n",
        "def export_results():\n",
        "    \"\"\"\n",
        "    Export all analysis results\n",
        "    \"\"\"\n",
        "    if not analysis_results:\n",
        "        return \"No analysis results to export.\"\n",
        "\n",
        "    filename = export_to_json(analysis_results)\n",
        "    return f\"✅ Results exported to {filename}\"\n",
        "\n",
        "def copy_analysis_result(sentiment_display, explanation, rephrased_text):\n",
        "    \"\"\"\n",
        "    Copy analysis result to clipboard\n",
        "    \"\"\"\n",
        "    result_text = f\"Sentiment: {sentiment_display}\\n\\nExplanation: {explanation}\"\n",
        "    if rephrased_text.strip():\n",
        "        result_text += f\"\\n\\nRephrased: {rephrased_text}\"\n",
        "\n",
        "    return copy_to_clipboard(result_text)"
      ]
    },
    {
      "cell_type": "code",
      "execution_count": 20,
      "metadata": {
        "id": "gradio_interface"
      },
      "outputs": [],
      "source": [
        "# Create Gradio interface\n",
        "def create_interface():\n",
        "    with gr.Blocks(title=\"Product Review Sentiment Analysis\", theme=gr.themes.Soft()) as demo:\n",
        "        gr.Markdown(\n",
        "            \"\"\"\n",
        "            # 🔍 Product Review Sentiment Analysis + Reasoning\n",
        "\n",
        "            Analyze customer reviews, understand emotional drivers, and rephrase feedback for your e-commerce team.\n",
        "            \"\"\"\n",
        "        )\n",
        "\n",
        "        with gr.Row():\n",
        "            with gr.Column(scale=2):\n",
        "                # Input section\n",
        "                review_input = gr.Textbox(\n",
        "                    label=\"Customer Review\",\n",
        "                    placeholder=\"Enter the customer review here...\",\n",
        "                    lines=4,\n",
        "                    max_lines=8\n",
        "                )\n",
        "\n",
        "                analyze_btn = gr.Button(\"🔍 Analyze Review\", variant=\"primary\", size=\"lg\")\n",
        "\n",
        "            with gr.Column(scale=2):\n",
        "                # Results section\n",
        "                sentiment_output = gr.Textbox(\n",
        "                    label=\"Sentiment Analysis\",\n",
        "                    interactive=False\n",
        "                )\n",
        "\n",
        "                explanation_output = gr.Textbox(\n",
        "                    label=\"Explanation\",\n",
        "                    lines=4,\n",
        "                    interactive=False\n",
        "                )\n",
        "\n",
        "        # Rephrasing section\n",
        "        gr.Markdown(\"### 📝 Rephrase Review\")\n",
        "\n",
        "        with gr.Row():\n",
        "            tone_radio = gr.Radio(\n",
        "                choices=[\"neutral\", \"brand-friendly\"],\n",
        "                value=\"neutral\",\n",
        "                label=\"Rephrasing Tone\"\n",
        "            )\n",
        "            rephrase_btn = gr.Button(\"📝 Rephrase\", variant=\"secondary\")\n",
        "\n",
        "        rephrased_output = gr.Textbox(\n",
        "            label=\"Rephrased Review\",\n",
        "            lines=4,\n",
        "            interactive=True,\n",
        "            placeholder=\"Rephrased version will appear here...\"\n",
        "        )\n",
        "\n",
        "        # Export section\n",
        "        gr.Markdown(\"### 📤 Export & Copy\")\n",
        "\n",
        "        with gr.Row():\n",
        "            copy_btn = gr.Button(\"📋 Copy to Clipboard\", variant=\"secondary\")\n",
        "            export_btn = gr.Button(\"💾 Export All Results\", variant=\"secondary\")\n",
        "\n",
        "        status_output = gr.Textbox(\n",
        "            label=\"Status\",\n",
        "            interactive=False,\n",
        "            show_label=False\n",
        "        )\n",
        "\n",
        "        # Event handlers\n",
        "        analyze_btn.click(\n",
        "            fn=analyze_review,\n",
        "            inputs=[review_input],\n",
        "            outputs=[sentiment_output, explanation_output, rephrased_output, status_output]\n",
        "        )\n",
        "\n",
        "        rephrase_btn.click(\n",
        "            fn=rephrase_current_review,\n",
        "            inputs=[review_input, tone_radio],\n",
        "            outputs=[rephrased_output]\n",
        "        )\n",
        "\n",
        "        copy_btn.click(\n",
        "            fn=copy_analysis_result,\n",
        "            inputs=[sentiment_output, explanation_output, rephrased_output],\n",
        "            outputs=[status_output]\n",
        "        )\n",
        "\n",
        "        export_btn.click(\n",
        "            fn=export_results,\n",
        "            inputs=[],\n",
        "            outputs=[status_output]\n",
        "        )\n",
        "\n",
        "        # Example reviews\n",
        "        gr.Markdown(\n",
        "            \"\"\"\n",
        "            ### 📋 Example Reviews to Try:\n",
        "\n",
        "            **Negative:** \"The product broke after two weeks. Very disappointed with the quality. Would not recommend.\"\n",
        "\n",
        "            **Positive:** \"Amazing product! Works exactly as described and arrived quickly. Highly recommend!\"\n",
        "\n",
        "            **Neutral:** \"The app is hard to navigate. Some features work well, others could be improved.\"\n",
        "            \"\"\"\n",
        "        )\n",
        "\n",
        "    return demo"
      ]
    },
    {
      "cell_type": "markdown",
      "metadata": {
        "id": "launch"
      },
      "source": [
        "## 6. Launch the Application"
      ]
    },
    {
      "cell_type": "code",
      "execution_count": 24,
      "metadata": {
        "id": "launch_app",
        "colab": {
          "base_uri": "https://localhost:8080/",
          "height": 650
        },
        "outputId": "a5ee2c16-1822-4c7c-b498-8217abba0b6f"
      },
      "outputs": [
        {
          "output_type": "stream",
          "name": "stdout",
          "text": [
            "Colab notebook detected. This cell will run indefinitely so that you can see errors and logs. To turn off, set debug=False in launch().\n",
            "* Running on public URL: https://80d06c15619442d292.gradio.live\n",
            "\n",
            "This share link expires in 1 week. For free permanent hosting and GPU upgrades, run `gradio deploy` from the terminal in the working directory to deploy to Hugging Face Spaces (https://huggingface.co/spaces)\n"
          ]
        },
        {
          "output_type": "display_data",
          "data": {
            "text/plain": [
              "<IPython.core.display.HTML object>"
            ],
            "text/html": [
              "<div><iframe src=\"https://80d06c15619442d292.gradio.live\" width=\"100%\" height=\"500\" allow=\"autoplay; camera; microphone; clipboard-read; clipboard-write;\" frameborder=\"0\" allowfullscreen></iframe></div>"
            ]
          },
          "metadata": {}
        },
        {
          "output_type": "stream",
          "name": "stdout",
          "text": [
            "Keyboard interruption in main thread... closing server.\n",
            "Killing tunnel 127.0.0.1:7860 <> https://80d06c15619442d292.gradio.live\n"
          ]
        },
        {
          "output_type": "execute_result",
          "data": {
            "text/plain": []
          },
          "metadata": {},
          "execution_count": 24
        }
      ],
      "source": [
        "# Create and launch the interface\n",
        "demo = create_interface()\n",
        "\n",
        "# Launch with public sharing enabled for Colab\n",
        "demo.launch(\n",
        "    share=True,  # Creates a public link\n",
        "    debug=True,  # Enable debug mode\n",
        "    show_error=True  # Show errors in the interface\n",
        ")"
      ]
    },
    {
      "cell_type": "markdown",
      "metadata": {
        "id": "usage_notes"
      },
      "source": [
        "## 📖 Usage Notes\n",
        "\n",
        "### Setup:\n",
        "1. **OpenAI API Key**: Set your OpenAI API key using Google Colab secrets or environment variables\n",
        "2. **Run all cells**: Execute all cells in order to set up the application\n",
        "3. **Launch**: The final cell will create a public Gradio link you can share\n",
        "\n",
        "### Features:\n",
        "- **Sentiment Analysis**: Automatically classifies reviews as Positive, Negative, or Neutral\n",
        "- **AI Explanations**: Uses GPT to explain why a review has a particular sentiment\n",
        "- **Review Rephrasing**: Converts negative reviews to neutral or brand-friendly tone\n",
        "- **Export Options**: Copy results to clipboard or export all analyses to JSON\n",
        "\n",
        "### For Production Use:\n",
        "- Consider using a more robust database for storing results\n",
        "- Implement user authentication and access controls\n",
        "- Add rate limiting for API calls\n",
        "- Set up proper logging and monitoring\n",
        "\n",
        "### Troubleshooting:\n",
        "- If sentiment analysis fails, the app falls back to TextBlob\n",
        "- Ensure your OpenAI API key has sufficient credits\n",
        "- Check the status output for any error messages\n"
      ]
    }
  ],
  "metadata": {
    "colab": {
      "provenance": []
    },
    "kernelspec": {
      "display_name": "Python 3",
      "name": "python3"
    },
    "language_info": {
      "name": "python"
    }
  },
  "nbformat": 4,
  "nbformat_minor": 0
}